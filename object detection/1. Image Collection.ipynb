{
 "cells": [
  {
   "cell_type": "markdown",
   "metadata": {},
   "source": [
    "# 1. Import Dependencies"
   ]
  },
  {
   "cell_type": "code",
   "execution_count": 1,
   "metadata": {},
   "outputs": [
    {
     "name": "stdout",
     "output_type": "stream",
     "text": [
      "Requirement already satisfied: opencv-python in c:\\users\\etesam\\desktop\\od\\od\\lib\\site-packages (4.9.0.80)\n",
      "Requirement already satisfied: numpy>=1.19.3 in c:\\users\\etesam\\desktop\\od\\od\\lib\\site-packages (from opencv-python) (1.24.3)\n"
     ]
    },
    {
     "name": "stderr",
     "output_type": "stream",
     "text": [
      "WARNING: Ignoring invalid distribution -ensorflow-intel (c:\\users\\etesam\\desktop\\od\\od\\lib\\site-packages)\n",
      "WARNING: Ignoring invalid distribution -ensorflow-intel (c:\\users\\etesam\\desktop\\od\\od\\lib\\site-packages)\n",
      "WARNING: Ignoring invalid distribution -ensorflow-intel (c:\\users\\etesam\\desktop\\od\\od\\lib\\site-packages)\n",
      "WARNING: Ignoring invalid distribution -ensorflow-intel (c:\\users\\etesam\\desktop\\od\\od\\lib\\site-packages)\n",
      "WARNING: Ignoring invalid distribution -ensorflow-intel (c:\\users\\etesam\\desktop\\od\\od\\lib\\site-packages)\n",
      "WARNING: Ignoring invalid distribution -ensorflow-intel (c:\\users\\etesam\\desktop\\od\\od\\lib\\site-packages)\n",
      "\n",
      "[notice] A new release of pip is available: 23.0.1 -> 24.0\n",
      "[notice] To update, run: python.exe -m pip install --upgrade pip\n"
     ]
    }
   ],
   "source": [
    "!pip install opencv-python"
   ]
  },
  {
   "cell_type": "code",
   "execution_count": 2,
   "metadata": {},
   "outputs": [],
   "source": [
    "# Import opencv\n",
    "import cv2 \n",
    "\n",
    "# Import uuid      #for individual naming of images\n",
    "import uuid\n",
    "\n",
    "# Import Operating System\n",
    "import os\n",
    "\n",
    "# Import time\n",
    "import time"
   ]
  },
  {
   "cell_type": "markdown",
   "metadata": {},
   "source": [
    "# 2. Define Images to Collect"
   ]
  },
  {
   "cell_type": "code",
   "execution_count": 3,
   "metadata": {},
   "outputs": [],
   "source": [
    "labels = ['bag', 'camera', 'weapon', 'knife']\n",
    "number_imgs = 5"
   ]
  },
  {
   "cell_type": "markdown",
   "metadata": {},
   "source": [
    "# 3. Setup Folders \n",
    "create a folder for each label"
   ]
  },
  {
   "cell_type": "code",
   "execution_count": 4,
   "metadata": {},
   "outputs": [],
   "source": [
    "IMAGES_PATH = os.path.join('Tensorflow', 'workspace', 'images', 'collectedimages')"
   ]
  },
  {
   "cell_type": "code",
   "execution_count": 5,
   "metadata": {},
   "outputs": [],
   "source": [
    "if not os.path.exists(IMAGES_PATH):\n",
    "    if os.name == 'posix':\n",
    "        !mkdir -p {IMAGES_PATH}\n",
    "    if os.name == 'nt':\n",
    "         !mkdir {IMAGES_PATH}\n",
    "for label in labels:\n",
    "    path = os.path.join(IMAGES_PATH, label)\n",
    "    if not os.path.exists(path):\n",
    "        !mkdir {path}"
   ]
  },
  {
   "cell_type": "markdown",
   "metadata": {},
   "source": [
    "# 4. Capture Images\n",
    "when we want capture images for dataset"
   ]
  },
  {
   "cell_type": "code",
   "execution_count": 6,
   "metadata": {},
   "outputs": [
    {
     "name": "stdout",
     "output_type": "stream",
     "text": [
      "Collecting images for bag\n",
      "Collecting image 0\n",
      "Collecting image 1\n",
      "Collecting image 2\n",
      "Collecting image 3\n",
      "Collecting image 4\n",
      "Collecting images for camera\n",
      "Collecting image 0\n",
      "Collecting image 1\n",
      "Collecting image 2\n",
      "Collecting image 3\n",
      "Collecting image 4\n",
      "Collecting images for weapon\n",
      "Collecting image 0\n",
      "Collecting image 1\n",
      "Collecting image 2\n",
      "Collecting image 3\n",
      "Collecting image 4\n",
      "Collecting images for knife\n",
      "Collecting image 0\n",
      "Collecting image 1\n",
      "Collecting image 2\n",
      "Collecting image 3\n",
      "Collecting image 4\n"
     ]
    }
   ],
   "source": [
    "for label in labels:\n",
    "    cap = cv2.VideoCapture(0)\n",
    "    print('Collecting images for {}'.format(label))\n",
    "    time.sleep(5)\n",
    "    for imgnum in range(number_imgs):\n",
    "        print('Collecting image {}'.format(imgnum))\n",
    "        ret, frame = cap.read()\n",
    "        imgname = os.path.join(IMAGES_PATH,label,label+'.'+'{}.jpg'.format(str(uuid.uuid1()))) #save images in the directory\n",
    "        cv2.imwrite(imgname, frame)\n",
    "        cv2.imshow('frame', frame)\n",
    "        time.sleep(2)\n",
    "\n",
    "        if cv2.waitKey(1) & 0xFF == ord('q'):\n",
    "            break\n",
    "cap.release() #exit webcam\n",
    "cv2.destroyAllWindows()  #exit all windows\n",
    "#open    tensorflow -> workspace -> images -> collected images"
   ]
  },
  {
   "cell_type": "markdown",
   "metadata": {},
   "source": [
    "# 5. Image Labelling"
   ]
  },
  {
   "cell_type": "code",
   "execution_count": 7,
   "metadata": {
    "scrolled": true
   },
   "outputs": [
    {
     "name": "stdout",
     "output_type": "stream",
     "text": [
      "Requirement already satisfied: pyqt5 in c:\\users\\etesam\\desktop\\od\\od\\lib\\site-packages (5.15.10)\n",
      "Requirement already satisfied: lxml in c:\\users\\etesam\\desktop\\od\\od\\lib\\site-packages (5.1.0)\n",
      "Requirement already satisfied: PyQt5-Qt5>=5.15.2 in c:\\users\\etesam\\desktop\\od\\od\\lib\\site-packages (from pyqt5) (5.15.2)\n",
      "Requirement already satisfied: PyQt5-sip<13,>=12.13 in c:\\users\\etesam\\desktop\\od\\od\\lib\\site-packages (from pyqt5) (12.13.0)\n"
     ]
    },
    {
     "name": "stderr",
     "output_type": "stream",
     "text": [
      "WARNING: Ignoring invalid distribution -ensorflow-intel (c:\\users\\etesam\\desktop\\od\\od\\lib\\site-packages)\n",
      "WARNING: Ignoring invalid distribution -ensorflow-intel (c:\\users\\etesam\\desktop\\od\\od\\lib\\site-packages)\n",
      "WARNING: Ignoring invalid distribution -ensorflow-intel (c:\\users\\etesam\\desktop\\od\\od\\lib\\site-packages)\n",
      "WARNING: Ignoring invalid distribution -ensorflow-intel (c:\\users\\etesam\\desktop\\od\\od\\lib\\site-packages)\n",
      "WARNING: Ignoring invalid distribution -ensorflow-intel (c:\\users\\etesam\\desktop\\od\\od\\lib\\site-packages)\n",
      "WARNING: Ignoring invalid distribution -ensorflow-intel (c:\\users\\etesam\\desktop\\od\\od\\lib\\site-packages)\n",
      "\n",
      "[notice] A new release of pip is available: 23.0.1 -> 24.0\n",
      "[notice] To update, run: python.exe -m pip install --upgrade pip\n"
     ]
    }
   ],
   "source": [
    "!pip install --upgrade pyqt5 lxml"
   ]
  },
  {
   "cell_type": "code",
   "execution_count": 10,
   "metadata": {},
   "outputs": [],
   "source": [
    "LABELIMG_PATH = os.path.join('Tensorflow', 'labelimg')  "
   ]
  },
  {
   "cell_type": "code",
   "execution_count": 11,
   "metadata": {},
   "outputs": [],
   "source": [
    "if not os.path.exists(LABELIMG_PATH):\n",
    "    !mkdir {LABELIMG_PATH}\n",
    "    !git clone https://github.com/tzutalin/labelImg {LABELIMG_PATH}"
   ]
  },
  {
   "cell_type": "code",
   "execution_count": 12,
   "metadata": {},
   "outputs": [],
   "source": [
    "if os.name == 'posix':\n",
    "    !make qt5py3\n",
    "if os.name =='nt':\n",
    "    !cd {LABELIMG_PATH} && pyrcc5 -o libs/resources.py resources.qrc"
   ]
  },
  {
   "cell_type": "code",
   "execution_count": 14,
   "metadata": {},
   "outputs": [
    {
     "name": "stdout",
     "output_type": "stream",
     "text": [
      "Image:C:\\Users\\etesam\\Desktop\\od\\Tensorflow\\workspace\\images\\collectedimages\\bag\\im44444444444ages.jpg -> Annotation:C:/Users/etesam/Desktop/od/Tensorflow/workspace/images/collectedimages/bag\\im44444444444ages.txt\n",
      "Image:C:\\Users\\etesam\\Desktop\\od\\Tensorflow\\workspace\\images\\collectedimages\\bag\\ima44444444ges.jpg -> Annotation:C:/Users/etesam/Desktop/od/Tensorflow/workspace/images/collectedimages/bag\\ima44444444ges.txt\n",
      "Image:C:\\Users\\etesam\\Desktop\\od\\Tensorflow\\workspace\\images\\collectedimages\\bag\\images.jpg -> Annotation:C:/Users/etesam/Desktop/od/Tensorflow/workspace/images/collectedimages/bag\\images.txt\n",
      "Image:C:\\Users\\etesam\\Desktop\\od\\Tensorflow\\workspace\\images\\collectedimages\\bag\\Untitl6ed.jpg -> Annotation:C:/Users/etesam/Desktop/od/Tensorflow/workspace/images/collectedimages/bag\\Untitl6ed.txt\n",
      "Image:C:\\Users\\etesam\\Desktop\\od\\Tensorflow\\workspace\\images\\collectedimages\\bag\\Untitle7d.jpg -> Annotation:C:/Users/etesam/Desktop/od/Tensorflow/workspace/images/collectedimages/bag\\Untitle7d.txt\n",
      "Image:C:\\Users\\etesam\\Desktop\\od\\Tensorflow\\workspace\\images\\collectedimages\\bag\\Untitle7d.jpg -> Annotation:C:/Users/etesam/Desktop/od/Tensorflow/workspace/images/collectedimages/bag\\Untitle7d.xml\n",
      "Image:C:\\Users\\etesam\\Desktop\\od\\Tensorflow\\workspace\\images\\collectedimages\\bag\\Untitle7d.jpg -> Annotation:C:/Users/etesam/Desktop/od/Tensorflow/workspace/images/collectedimages/bag\\Untitle7d.json\n",
      "Image:C:\\Users\\etesam\\Desktop\\od\\Tensorflow\\workspace\\images\\collectedimages\\bag\\im44444444444ages.jpg -> Annotation:C:/Users/etesam/Desktop/od/Tensorflow/workspace/images/collectedimages/bag\\im44444444444ages.xml\n",
      "Image:C:\\Users\\etesam\\Desktop\\od\\Tensorflow\\workspace\\images\\collectedimages\\bag\\ima44444444ges.jpg -> Annotation:C:/Users/etesam/Desktop/od/Tensorflow/workspace/images/collectedimages/bag\\ima44444444ges.xml\n",
      "Image:C:\\Users\\etesam\\Desktop\\od\\Tensorflow\\workspace\\images\\collectedimages\\bag\\images.jpg -> Annotation:C:/Users/etesam/Desktop/od/Tensorflow/workspace/images/collectedimages/bag\\images.xml\n",
      "Image:C:\\Users\\etesam\\Desktop\\od\\Tensorflow\\workspace\\images\\collectedimages\\bag\\Untitl6ed.jpg -> Annotation:C:/Users/etesam/Desktop/od/Tensorflow/workspace/images/collectedimages/bag\\Untitl6ed.xml\n",
      "Image:C:\\Users\\etesam\\Desktop\\od\\Tensorflow\\workspace\\images\\collectedimages\\camera\\41.jpg -> Annotation:C:/Users/etesam/Desktop/od/Tensorflow/workspace/images/collectedimages/camera\\41.xml\n",
      "Image:C:\\Users\\etesam\\Desktop\\od\\Tensorflow\\workspace\\images\\collectedimages\\camera\\54.jpg -> Annotation:C:/Users/etesam/Desktop/od/Tensorflow/workspace/images/collectedimages/camera\\54.xml\n",
      "Image:C:\\Users\\etesam\\Desktop\\od\\Tensorflow\\workspace\\images\\collectedimages\\camera\\64.jpg -> Annotation:C:/Users/etesam/Desktop/od/Tensorflow/workspace/images/collectedimages/camera\\64.xml\n",
      "Image:C:\\Users\\etesam\\Desktop\\od\\Tensorflow\\workspace\\images\\collectedimages\\camera\\444.jpg -> Annotation:C:/Users/etesam/Desktop/od/Tensorflow/workspace/images/collectedimages/camera\\444.xml\n",
      "Image:C:\\Users\\etesam\\Desktop\\od\\Tensorflow\\workspace\\images\\collectedimages\\camera\\444.jpg -> Annotation:C:/Users/etesam/Desktop/od/Tensorflow/workspace/images/collectedimages/camera\\444.xml\n",
      "Image:C:\\Users\\etesam\\Desktop\\od\\Tensorflow\\workspace\\images\\collectedimages\\camera\\444.jpg -> Annotation:C:/Users/etesam/Desktop/od/Tensorflow/workspace/images/collectedimages/camera\\444.xml\n",
      "Image:C:\\Users\\etesam\\Desktop\\od\\Tensorflow\\workspace\\images\\collectedimages\\camera\\444.jpg -> Annotation:C:/Users/etesam/Desktop/od/Tensorflow/workspace/images/collectedimages/camera\\444.xml\n",
      "Image:C:\\Users\\etesam\\Desktop\\od\\Tensorflow\\workspace\\images\\collectedimages\\camera\\545.jpg -> Annotation:C:/Users/etesam/Desktop/od/Tensorflow/workspace/images/collectedimages/camera\\545.xml\n",
      "Image:C:\\Users\\etesam\\Desktop\\od\\Tensorflow\\workspace\\images\\collectedimages\\knife\\3.jpg -> Annotation:C:/Users/etesam/Desktop/od/Tensorflow/workspace/images/collectedimages/knife\\3.xml\n",
      "Image:C:\\Users\\etesam\\Desktop\\od\\Tensorflow\\workspace\\images\\collectedimages\\knife\\11images.jpg -> Annotation:C:/Users/etesam/Desktop/od/Tensorflow/workspace/images/collectedimages/knife\\11images.xml\n",
      "Image:C:\\Users\\etesam\\Desktop\\od\\Tensorflow\\workspace\\images\\collectedimages\\knife\\11Untitled.jpg -> Annotation:C:/Users/etesam/Desktop/od/Tensorflow/workspace/images/collectedimages/knife\\11Untitled.xml\n",
      "Image:C:\\Users\\etesam\\Desktop\\od\\Tensorflow\\workspace\\images\\collectedimages\\knife\\imag55es.jpg -> Annotation:C:/Users/etesam/Desktop/od/Tensorflow/workspace/images/collectedimages/knife\\imag55es.xml\n",
      "Image:C:\\Users\\etesam\\Desktop\\od\\Tensorflow\\workspace\\images\\collectedimages\\knife\\Un2titled.jpg -> Annotation:C:/Users/etesam/Desktop/od/Tensorflow/workspace/images/collectedimages/knife\\Un2titled.xml\n",
      "Image:C:\\Users\\etesam\\Desktop\\od\\Tensorflow\\workspace\\images\\collectedimages\\weapon\\11.jpg -> Annotation:C:/Users/etesam/Desktop/od/Tensorflow/workspace/images/collectedimages/weapon\\11.xml\n",
      "Image:C:\\Users\\etesam\\Desktop\\od\\Tensorflow\\workspace\\images\\collectedimages\\weapon\\1200px-SIG_P226_img_1624.jpg -> Annotation:C:/Users/etesam/Desktop/od/Tensorflow/workspace/images/collectedimages/weapon\\1200px-SIG_P226_img_1624.xml\n",
      "Image:C:\\Users\\etesam\\Desktop\\od\\Tensorflow\\workspace\\images\\collectedimages\\weapon\\1573151_711.jpg -> Annotation:C:/Users/etesam/Desktop/od/Tensorflow/workspace/images/collectedimages/weapon\\1573151_711.xml\n",
      "Image:C:\\Users\\etesam\\Desktop\\od\\Tensorflow\\workspace\\images\\collectedimages\\weapon\\image5s.jpg -> Annotation:C:/Users/etesam/Desktop/od/Tensorflow/workspace/images/collectedimages/weapon\\image5s.xml\n",
      "Image:C:\\Users\\etesam\\Desktop\\od\\Tensorflow\\workspace\\images\\collectedimages\\weapon\\images2.jpg -> Annotation:C:/Users/etesam/Desktop/od/Tensorflow/workspace/images/collectedimages/weapon\\images2.xml\n"
     ]
    }
   ],
   "source": [
    "!cd {LABELIMG_PATH} && python labelImg.py   "
   ]
  },
  {
   "cell_type": "markdown",
   "metadata": {},
   "source": [
    "# 6. Move them into a Training and Testing Partition"
   ]
  }
 ],
 "metadata": {
  "kernelspec": {
   "display_name": "od",
   "language": "python",
   "name": "od"
  },
  "language_info": {
   "codemirror_mode": {
    "name": "ipython",
    "version": 3
   },
   "file_extension": ".py",
   "mimetype": "text/x-python",
   "name": "python",
   "nbconvert_exporter": "python",
   "pygments_lexer": "ipython3",
   "version": "3.10.11"
  }
 },
 "nbformat": 4,
 "nbformat_minor": 2
}
